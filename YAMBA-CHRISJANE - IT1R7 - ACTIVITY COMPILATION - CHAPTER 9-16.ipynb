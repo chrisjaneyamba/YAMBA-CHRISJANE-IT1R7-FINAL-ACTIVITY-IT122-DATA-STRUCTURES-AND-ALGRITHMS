{
 "cells": [
  {
   "cell_type": "code",
   "execution_count": 1,
   "id": "quick-electron",
   "metadata": {},
   "outputs": [
    {
     "name": "stdout",
     "output_type": "stream",
     "text": [
      "I. Discuss your learnings on from Chapter 9 to Chapter 17\n"
     ]
    }
   ],
   "source": [
    "print(\"I. Discuss your learnings on from Chapter 9 to Chapter 17\")"
   ]
  },
  {
   "cell_type": "code",
   "execution_count": 2,
   "id": "valid-israel",
   "metadata": {},
   "outputs": [
    {
     "name": "stdout",
     "output_type": "stream",
     "text": [
      "What I have learned in Chapter 9 minimun of 200 words\n",
      "\n",
      "In this chapter I learn Introduction to Graphs in data structure . It is a non-linear data structure. A graph is defined as follows Graph is a collection of vertices and arcs in which vertices are connected with arcs.Graph is a collection of nodes and edges in which nodes are connected with edges.  It contains a set of points known as nodes (or vertices) and a set of links known as edges (or Arcs). Here edges are used to connect the vertices. Graph Terminology We use the following terms in graph data structure Vertex , Edge,  Undirected Graph,  Directed Graph,  Mixed Graph , End vertices or Endpoints , Origin , Destination,  Adjacent, Incident,  Outgoing Edge, Incoming Edge , Degree , Indegree,  Out Degree, Parallel edges or Multiple edges, Self-loop, Simple Graph and Path. Graph Representations Graph data structure is represented using following representations Adjacency Matrix,Incidence Matrix and Adjacency List. Graph traversal is a technique used for a searching vertex in a graph is also used to decide the order of vertices is visited in the search process. There are two graph traversal techniques DFS (Depth First Search) BFS (Breadth First Search).  Graphs can be used in real life in many ways incurred on different household items during a month .\n"
     ]
    }
   ],
   "source": [
    "print(\"What I have learned in Chapter 9 minimun of 200 words\")\n",
    "print(\"\\nIn this chapter I learn Introduction to Graphs in data structure . It is a non-linear data structure. A graph is defined as follows Graph is a collection of vertices and arcs in which vertices are connected with arcs.Graph is a collection of nodes and edges in which nodes are connected with edges.  It contains a set of points known as nodes (or vertices) and a set of links known as edges (or Arcs). Here edges are used to connect the vertices. Graph Terminology We use the following terms in graph data structure Vertex , Edge,  Undirected Graph,  Directed Graph,  Mixed Graph , End vertices or Endpoints , Origin , Destination,  Adjacent, Incident,  Outgoing Edge, Incoming Edge , Degree , Indegree,  Out Degree, Parallel edges or Multiple edges, Self-loop, Simple Graph and Path. Graph Representations Graph data structure is represented using following representations Adjacency Matrix,Incidence Matrix and Adjacency List. Graph traversal is a technique used for a searching vertex in a graph is also used to decide the order of vertices is visited in the search process. There are two graph traversal techniques DFS (Depth First Search) BFS (Breadth First Search).  Graphs can be used in real life in many ways incurred on different household items during a month .\")"
   ]
  },
  {
   "cell_type": "code",
   "execution_count": 3,
   "id": "corresponding-seminar",
   "metadata": {},
   "outputs": [
    {
     "name": "stdout",
     "output_type": "stream",
     "text": [
      "What I have learned in Chapter 10 minimun of 200 words\n",
      "\n",
      "In this chapter I learn about Binary search looks for a particular item by comparing the middle most item of the collection. It is algorithm to work properly, the data collection should be in the sorted form. a binary search to work, it is mandatory for the target array to be sorted. We shall learn the process of binary search with a pictorial example. Binary search halves the searchable items and thus reduces the count of comparisons to be made to very less numbers. Interpolation search is an improved variant of binary search. This search algorithm works on the probing position of the required value. For this algorithm to work properly, the data collection should be in a sorted form and equally distributed. Binary search has a huge advantage of time complexity over linear search. Positioning in Binary Search if the desired data is not found then the rest of the list is divided in two parts, lower and higher. Position Probing in Interpolation Search finds a particular item by computing the probe position. Initially, the probe position is the position of the middle most item of the collection. Hash Table is a data structure which stores data in an associative manner and stored in an array format.\n"
     ]
    }
   ],
   "source": [
    "print(\"What I have learned in Chapter 10 minimun of 200 words\")\n",
    "print(\"\\nIn this chapter I learn about Binary search looks for a particular item by comparing the middle most item of the collection. It is algorithm to work properly, the data collection should be in the sorted form. a binary search to work, it is mandatory for the target array to be sorted. We shall learn the process of binary search with a pictorial example. Binary search halves the searchable items and thus reduces the count of comparisons to be made to very less numbers. Interpolation search is an improved variant of binary search. This search algorithm works on the probing position of the required value. For this algorithm to work properly, the data collection should be in a sorted form and equally distributed. Binary search has a huge advantage of time complexity over linear search. Positioning in Binary Search if the desired data is not found then the rest of the list is divided in two parts, lower and higher. Position Probing in Interpolation Search finds a particular item by computing the probe position. Initially, the probe position is the position of the middle most item of the collection. Hash Table is a data structure which stores data in an associative manner and stored in an array format.\")"
   ]
  },
  {
   "cell_type": "code",
   "execution_count": 4,
   "id": "employed-ambassador",
   "metadata": {},
   "outputs": [
    {
     "name": "stdout",
     "output_type": "stream",
     "text": [
      "What I have learned in Chapter 11 minimun of 200 words\n",
      "\n",
      "I learn in this chapter that Bubble sort is a basic algorithm for arranging a string of numbers or other elements in the correct order which each pair of adjacent elements is compared and the elements are swapped if they are not in order.Advantages of using bubble sort strong point is its simplicity. It takes just a few lines of code, is easy to read, and can be plugged in anywhere in your program. And The major disadvantage is the amount of time it takes to sort. Pseudocode We observe in algorithm that Bubble Sort compares each pair of array element unless the whole array is completely sorted in an ascending order. Implementation One more issue we did not address in our original algorithm and its improvised pseudocode, is that, after every iteration the highest values settles down at the end of the array.  insertion sort. The array is searched sequentially and unsorted items are moved and inserted into the sorted sub-list . Selection sort is a simple sorting algorithm. The smallest element is selected from the unsorted array and swapped with the leftmost element, and that element becomes a part of the sorted array. The video shows on how to use bubble sort.\n"
     ]
    }
   ],
   "source": [
    "print(\"What I have learned in Chapter 11 minimun of 200 words\")\n",
    "print(\"\\nI learn in this chapter that Bubble sort is a basic algorithm for arranging a string of numbers or other elements in the correct order which each pair of adjacent elements is compared and the elements are swapped if they are not in order.Advantages of using bubble sort strong point is its simplicity. It takes just a few lines of code, is easy to read, and can be plugged in anywhere in your program. And The major disadvantage is the amount of time it takes to sort. Pseudocode We observe in algorithm that Bubble Sort compares each pair of array element unless the whole array is completely sorted in an ascending order. Implementation One more issue we did not address in our original algorithm and its improvised pseudocode, is that, after every iteration the highest values settles down at the end of the array.  insertion sort. The array is searched sequentially and unsorted items are moved and inserted into the sorted sub-list . Selection sort is a simple sorting algorithm. The smallest element is selected from the unsorted array and swapped with the leftmost element, and that element becomes a part of the sorted array. The video shows on how to use bubble sort.\")"
   ]
  },
  {
   "cell_type": "code",
   "execution_count": 5,
   "id": "incorporated-fossil",
   "metadata": {},
   "outputs": [
    {
     "name": "stdout",
     "output_type": "stream",
     "text": [
      "What I have learned in Chapter 12 minimun of 200 words\n",
      "\n",
      "I learn that the best-case time complexity of Quicksort is when the pivot divides the array into two nearly equal halves, and each recursive call processes a list half the size.Quick sort  is a highly efficient sorting algorithm and is based on partitioning of array of data into smaller arrays. A large array is partitioned into two arrays one of which holds values smaller than the specified value, say pivot, based on which the partition is made and another array holds values greater than the pivot value.  Quicksort normally chooses the leftmost or the rightmost element of the partition as the pivot element. This selection will cause worst-case behavior on sorted or nearly sorted input. The key process in quickSort is partition All this should be done in linear time.  I have observed that rather than returning the sorted array from the quick sort function, other implementations tend to take advantage of a list's mutability and simply run the function on the unsorted array, which in turn will sort the array without having to reference the function call. The space time comparison with the code. This leason make me challenging in study it hard but interesting.\n"
     ]
    }
   ],
   "source": [
    "print(\"What I have learned in Chapter 12 minimun of 200 words\")\n",
    "print(\"\\nI learn that the best-case time complexity of Quicksort is when the pivot divides the array into two nearly equal halves, and each recursive call processes a list half the size.Quick sort  is a highly efficient sorting algorithm and is based on partitioning of array of data into smaller arrays. A large array is partitioned into two arrays one of which holds values smaller than the specified value, say pivot, based on which the partition is made and another array holds values greater than the pivot value.  Quicksort normally chooses the leftmost or the rightmost element of the partition as the pivot element. This selection will cause worst-case behavior on sorted or nearly sorted input. The key process in quickSort is partition All this should be done in linear time.  I have observed that rather than returning the sorted array from the quick sort function, other implementations tend to take advantage of a list's mutability and simply run the function on the unsorted array, which in turn will sort the array without having to reference the function call. The space time comparison with the code. This leason make me challenging in study it hard but interesting.\")"
   ]
  },
  {
   "cell_type": "code",
   "execution_count": 6,
   "id": "utility-madagascar",
   "metadata": {},
   "outputs": [
    {
     "name": "stdout",
     "output_type": "stream",
     "text": [
      "What I have learned in Chapter 13 minimun of 200 words\n",
      "\n",
      "I learn in this chapter that Insertion sort is the sorting mechanism where the sorted array is built having one item at a time. The array elements are compared with each other sequentially and then arranged simultaneously in some particular order,  While sorting is a simple concept, it is a basic principle used in complex computer programs such as file search, data compression, and path finding. Uses of Insertion sort is used when number of elements is small. It can also be useful when input array is almost sorted, only few elements are misplaced in complete big array. We can use binary search to reduce the number of comparisons in normal insertion sort. The advantages of Insertion sort The pure simplicity of the algorithm,The relative order of items with equal keys does not change,  The ability to sort a list as it is being received and alsoEfficient for small data sets, especially in practice than other quadratic algorithms.  The pseudocode for insertion sort is presented in a procedure called INSERTION-SORT, which takes as a parameter an array  just sinks the lowest value to the bottom each pass. For all this though, it seems a consensus that insertion sort is better in general.\n"
     ]
    }
   ],
   "source": [
    "print(\"What I have learned in Chapter 13 minimun of 200 words\")\n",
    "print(\"\\nI learn in this chapter that Insertion sort is the sorting mechanism where the sorted array is built having one item at a time. The array elements are compared with each other sequentially and then arranged simultaneously in some particular order,  While sorting is a simple concept, it is a basic principle used in complex computer programs such as file search, data compression, and path finding. Uses of Insertion sort is used when number of elements is small. It can also be useful when input array is almost sorted, only few elements are misplaced in complete big array. We can use binary search to reduce the number of comparisons in normal insertion sort. The advantages of Insertion sort The pure simplicity of the algorithm,The relative order of items with equal keys does not change,  The ability to sort a list as it is being received and alsoEfficient for small data sets, especially in practice than other quadratic algorithms.  The pseudocode for insertion sort is presented in a procedure called INSERTION-SORT, which takes as a parameter an array  just sinks the lowest value to the bottom each pass. For all this though, it seems a consensus that insertion sort is better in general.\")"
   ]
  },
  {
   "cell_type": "code",
   "execution_count": 7,
   "id": "rubber-framework",
   "metadata": {},
   "outputs": [
    {
     "name": "stdout",
     "output_type": "stream",
     "text": [
      "What I have learned in Chapter 14 minimun of 200 words\n",
      "\n",
      "In this chapter I learn about Merge sort in data structure  is a sorting technique based on divide and conquer technique. With worst-case time complexity being Ο(n log n), it is one of the most respected algorithms. Merge sort first divides the array into equal halves and then combines them in a sorted manner and also commonly used in computer science that works by recursively breaking down a problem into two or more sub-problems of the same or related type, until these become simple enough to be solved directly. Step in merge sort is First divide the list into the smallest unit , then compare each element with the adjacent list to sort and merge the two adjacent lists. Finally all the elements are sorted and merged. Merge sort repeatedly breaks down a list into several sublists until each sublist consists of a single element and merging those sublists in a manner that results into a sorted list and it slightly faster than the heap sort for larger sets, but it requires twice the memory of the heap sort because of the second array. Merge Sort is useful for sorting linked lists and It is more efficient as it is in worst case.\n"
     ]
    }
   ],
   "source": [
    "print(\"What I have learned in Chapter 14 minimun of 200 words\")\n",
    "print(\"\\nIn this chapter I learn about Merge sort in data structure  is a sorting technique based on divide and conquer technique. With worst-case time complexity being Ο(n log n), it is one of the most respected algorithms. Merge sort first divides the array into equal halves and then combines them in a sorted manner and also commonly used in computer science that works by recursively breaking down a problem into two or more sub-problems of the same or related type, until these become simple enough to be solved directly. Step in merge sort is First divide the list into the smallest unit , then compare each element with the adjacent list to sort and merge the two adjacent lists. Finally all the elements are sorted and merged. Merge sort repeatedly breaks down a list into several sublists until each sublist consists of a single element and merging those sublists in a manner that results into a sorted list and it slightly faster than the heap sort for larger sets, but it requires twice the memory of the heap sort because of the second array. Merge Sort is useful for sorting linked lists and It is more efficient as it is in worst case.\")"
   ]
  },
  {
   "cell_type": "code",
   "execution_count": 8,
   "id": "subjective-jefferson",
   "metadata": {},
   "outputs": [
    {
     "name": "stdout",
     "output_type": "stream",
     "text": [
      "What I have learned in Chapter 15 minimun of 200 words\n",
      "\n",
      "I learn in this chapter that shell sort in data structure is based on insertion sort algorithm. This algorithm avoids large shifts as in case of insertion sort, if the smaller value is to the far right and has to be moved to the far left. This algorithm uses insertion sort on a widely spread elements, first to sort them and then sorts the less widely spaced elements. This spacing is termed as interval and also is quite efficient for medium-sized data sets as its average and worst-case complexity of this algorithm depends on the gap sequence the best known is Ο(n), where n is the number of items. And the worst case space complexity is O(n). The shell sort, sometimes called the “diminishing increment sort,” improves on the insertion sort by breaking the original list into a number of smaller sublists, each of which is sorted using an insertion sort. The unique way that these sublists are chosen is the key to the shell sort. Advantage of Shellsort is that its only efficient for medium size lists. For bigger lists, the algorithm is not the best choice. Fastest of all O(N^2) sorting algorithms. 5 times faster than the bubble sort and a little over twice as fast as the insertion sort.\n"
     ]
    }
   ],
   "source": [
    "print(\"What I have learned in Chapter 15 minimun of 200 words\")\n",
    "print(\"\\nI learn in this chapter that shell sort in data structure is based on insertion sort algorithm. This algorithm avoids large shifts as in case of insertion sort, if the smaller value is to the far right and has to be moved to the far left. This algorithm uses insertion sort on a widely spread elements, first to sort them and then sorts the less widely spaced elements. This spacing is termed as interval and also is quite efficient for medium-sized data sets as its average and worst-case complexity of this algorithm depends on the gap sequence the best known is Ο(n), where n is the number of items. And the worst case space complexity is O(n). The shell sort, sometimes called the “diminishing increment sort,” improves on the insertion sort by breaking the original list into a number of smaller sublists, each of which is sorted using an insertion sort. The unique way that these sublists are chosen is the key to the shell sort. Advantage of Shellsort is that its only efficient for medium size lists. For bigger lists, the algorithm is not the best choice. Fastest of all O(N^2) sorting algorithms. 5 times faster than the bubble sort and a little over twice as fast as the insertion sort.\")"
   ]
  },
  {
   "cell_type": "code",
   "execution_count": 9,
   "id": "sufficient-approach",
   "metadata": {},
   "outputs": [
    {
     "name": "stdout",
     "output_type": "stream",
     "text": [
      "What I have learned in Chapter 16 minimun of 200 words\n",
      "\n",
      "In this chapter I learn that selection sort Selection sort is a simple sorting algorithm and the smallest element is selected from the unsorted array and swapped with the leftmost element, and that element becomes a part of the sorted array. This process continues moving unsorted array boundary by one element to the right. The use of selection sort can be good at checking if everything is already sorted. It is also good to use when memory space is limited.  It is called selection sort because it repeatedly selects the next-smallest element and swaps it into the right place. It is used to arrange a list of elements in a particular order (Ascending or Descending). In selection sort, the first element in the list is selected and it is compared repeatedly with all the remaining elements in the list. It has an O(n2) time complexity, which makes it inefficient on large lists, and generally performs worse than the similar insertion sort. Advantages include the fact that it does not depend on the initial arrangement of the data. Disadvantages include the fact that the comparisons required is O(N2), thus it it appropriate only for small N since N2 grows rapidly.\n"
     ]
    }
   ],
   "source": [
    "print(\"What I have learned in Chapter 16 minimun of 200 words\")\n",
    "print(\"\\nIn this chapter I learn that selection sort Selection sort is a simple sorting algorithm and the smallest element is selected from the unsorted array and swapped with the leftmost element, and that element becomes a part of the sorted array. This process continues moving unsorted array boundary by one element to the right. The use of selection sort can be good at checking if everything is already sorted. It is also good to use when memory space is limited.  It is called selection sort because it repeatedly selects the next-smallest element and swaps it into the right place. It is used to arrange a list of elements in a particular order (Ascending or Descending). In selection sort, the first element in the list is selected and it is compared repeatedly with all the remaining elements in the list. It has an O(n2) time complexity, which makes it inefficient on large lists, and generally performs worse than the similar insertion sort. Advantages include the fact that it does not depend on the initial arrangement of the data. Disadvantages include the fact that the comparisons required is O(N2), thus it it appropriate only for small N since N2 grows rapidly.\")"
   ]
  },
  {
   "cell_type": "code",
   "execution_count": 10,
   "id": "mathematical-transaction",
   "metadata": {},
   "outputs": [
    {
     "name": "stdout",
     "output_type": "stream",
     "text": [
      "What I have learned in Chapter 17 minimun of 200 words\n",
      "\n",
      "I Have learn that In recursion, a function or method has the ability of calling itself to solve the problem. The process of recursion involves solving a problem by turning it into smaller varieties of itself. The process in which a function calls itself could happen directly as well as indirectly. recursive data structure that is partially composed of smaller or simpler instances of the same data structure. For instance, a tree is composed of smaller trees (subtrees) and leaf nodes, and a list may have other lists as elements. See also iteration, recursion, recursive. A recursive case, in which the function must call itself to break the current problem down to a simpler level. well-known drawbacks of recursion are high memory usage and slow running time since it uses function call stack. A recursive function can go infinite like a loop. To avoid infinite running of recursive function, there are two properties that a recursive function must have  Base criteria there must be at least one base criteria or condition, such that, when this condition is met the function stops calling itself recursively and Progressive approach  the recursive calls should progress in such a way that each time a recursive .\n"
     ]
    }
   ],
   "source": [
    "print(\"What I have learned in Chapter 17 minimun of 200 words\")\n",
    "print(\"\\nI Have learn that In recursion, a function or method has the ability of calling itself to solve the problem. The process of recursion involves solving a problem by turning it into smaller varieties of itself. The process in which a function calls itself could happen directly as well as indirectly. recursive data structure that is partially composed of smaller or simpler instances of the same data structure. For instance, a tree is composed of smaller trees (subtrees) and leaf nodes, and a list may have other lists as elements. See also iteration, recursion, recursive. A recursive case, in which the function must call itself to break the current problem down to a simpler level. well-known drawbacks of recursion are high memory usage and slow running time since it uses function call stack. A recursive function can go infinite like a loop. To avoid infinite running of recursive function, there are two properties that a recursive function must have  Base criteria there must be at least one base criteria or condition, such that, when this condition is met the function stops calling itself recursively and Progressive approach  the recursive calls should progress in such a way that each time a recursive .\")"
   ]
  },
  {
   "cell_type": "code",
   "execution_count": 11,
   "id": "current-upset",
   "metadata": {},
   "outputs": [
    {
     "name": "stdout",
     "output_type": "stream",
     "text": [
      "II. Answer the following questions:\n"
     ]
    }
   ],
   "source": [
    "print(\"II. Answer the following questions:\")"
   ]
  },
  {
   "cell_type": "code",
   "execution_count": 12,
   "id": "aboriginal-kitchen",
   "metadata": {},
   "outputs": [
    {
     "name": "stdout",
     "output_type": "stream",
     "text": [
      "Implement the simple methods get_num and get_den that will return the numerator and denominator of a fraction.\n",
      "The fraction:  5/10\n",
      "The Numerator:  5\n",
      "The Denominator:  10\n"
     ]
    }
   ],
   "source": [
    "print(\"Implement the simple methods get_num and get_den that will return the numerator and denominator of a fraction.\")\n",
    "\n",
    "class Fraction:\n",
    "\n",
    "    def __init__(self, nume, deno):\n",
    "\n",
    "        self.num = nume     \n",
    "        self.den = deno  \n",
    "\n",
    "    def __str__(self):\n",
    "        return str(self.num) + \"/\" + str(self.den)\n",
    "\n",
    "    def getNum(self):\n",
    "        return self.num\n",
    "\n",
    "    def getDen(self):\n",
    "        return self.den\n",
    "\n",
    "thefraction = Fraction(5, 10)\n",
    "print(\"The fraction: \", thefraction)\n",
    "\n",
    "print(\"The Numerator: \",thefraction.getNum())\n",
    "print(\"The Denominator: \",thefraction.getDen())\n"
   ]
  },
  {
   "cell_type": "code",
   "execution_count": 13,
   "id": "dramatic-spectrum",
   "metadata": {},
   "outputs": [
    {
     "name": "stdout",
     "output_type": "stream",
     "text": [
      "Research the __radd__ method. How does it differ from __add__? When is it used? Implement __radd__\n",
      "The implementation using __radd__ is: 35\n"
     ]
    }
   ],
   "source": [
    "print(\"Research the __radd__ method. How does it differ from __add__? When is it used? Implement __radd__\")\n",
    "\n",
    "\n",
    "class sample1:\n",
    "  def __init__(self, number):\n",
    "    self.num = number\n",
    "\n",
    "class sample2:\n",
    "  def __init__(self, number):\n",
    "    self.num = number\n",
    "\n",
    "  def __radd__(self, other_obj):\n",
    "    return sample2(self.num+other_obj.num)\n",
    "\n",
    "  def __str__(self):\n",
    "    return str(self.num)\n",
    "x = sample1(15)\n",
    "y = sample2(20)\n",
    "print(\"The implementation using __radd__ is:\", x+y)"
   ]
  },
  {
   "cell_type": "code",
   "execution_count": 14,
   "id": "cardiovascular-article",
   "metadata": {},
   "outputs": [
    {
     "name": "stdout",
     "output_type": "stream",
     "text": [
      "Research the __repr__ method. How does it differ from __str__? When is it used? Implement __repr__.\n",
      "\n",
      "Person name is ChrisJane and age is 19\n",
      "Person(name=ChrisJane, age=19)\n"
     ]
    }
   ],
   "source": [
    "print(\"Research the __repr__ method. How does it differ from __str__? When is it used? Implement __repr__.\\n\")\n",
    "\n",
    "class Person:\n",
    "    def __init__(self, person_name, person_age):\n",
    "        self.name = person_name\n",
    "        self.age = person_age\n",
    "    def __str__(self):\n",
    "        return f'Person name is {self.name} and age is {self.age}'\n",
    "    def __repr__(self):\n",
    "        return f'Person(name={self.name}, age={self.age})'\n",
    "p = Person('ChrisJane',19)\n",
    "print(p.__str__())\n",
    "print(p.__repr__())"
   ]
  },
  {
   "cell_type": "code",
   "execution_count": 15,
   "id": "pending-graham",
   "metadata": {},
   "outputs": [
    {
     "name": "stdout",
     "output_type": "stream",
     "text": [
      "The most simple arithmetic circuit is known as the half adder. Research the simple half-adder circuit. Implement this circuit.\n",
      "\n",
      "Sum =  7\n",
      "Carry =  16\n"
     ]
    }
   ],
   "source": [
    "print(\"The most simple arithmetic circuit is known as the half adder. Research the simple half-adder circuit. Implement this circuit.\\n\")\n",
    "\n",
    "\n",
    "def result(A, B):\n",
    "    Sum = A ^ B\n",
    "    \n",
    "    Carry = A & B\n",
    "    \n",
    "    print(\"Sum = \", Sum)\n",
    "    print(\"Carry = \", Carry)\n",
    "A = 20\n",
    "B = 19\n",
    "result(A, B)\n"
   ]
  },
  {
   "cell_type": "code",
   "execution_count": 16,
   "id": "needed-radical",
   "metadata": {},
   "outputs": [
    {
     "name": "stdout",
     "output_type": "stream",
     "text": [
      "Design a class to represent a playing card and another one to represent a deck of cards. Using these two classes, implement your favorite card game.\n",
      "\n"
     ]
    },
    {
     "ename": "NameError",
     "evalue": "name '_name_' is not defined",
     "output_type": "error",
     "traceback": [
      "\u001b[1;31m---------------------------------------------------------------------------\u001b[0m",
      "\u001b[1;31mNameError\u001b[0m                                 Traceback (most recent call last)",
      "\u001b[1;32m<ipython-input-16-a3526b13f841>\u001b[0m in \u001b[0;36m<module>\u001b[1;34m\u001b[0m\n\u001b[0;32m     19\u001b[0m \u001b[1;33m\u001b[0m\u001b[0m\n\u001b[0;32m     20\u001b[0m \u001b[1;33m\u001b[0m\u001b[0m\n\u001b[1;32m---> 21\u001b[1;33m \u001b[1;32mif\u001b[0m \u001b[0m_name_\u001b[0m \u001b[1;33m==\u001b[0m \u001b[1;34m'_main_'\u001b[0m\u001b[1;33m:\u001b[0m\u001b[1;33m\u001b[0m\u001b[1;33m\u001b[0m\u001b[0m\n\u001b[0m\u001b[0;32m     22\u001b[0m     \u001b[1;32mimport\u001b[0m \u001b[0mdoctest\u001b[0m\u001b[1;33m\u001b[0m\u001b[1;33m\u001b[0m\u001b[0m\n\u001b[0;32m     23\u001b[0m     \u001b[0mdoctest\u001b[0m\u001b[1;33m.\u001b[0m\u001b[0mtestmod\u001b[0m\u001b[1;33m(\u001b[0m\u001b[1;33m)\u001b[0m\u001b[1;33m\u001b[0m\u001b[1;33m\u001b[0m\u001b[0m\n",
      "\u001b[1;31mNameError\u001b[0m: name '_name_' is not defined"
     ]
    }
   ],
   "source": [
    "print(\"Design a class to represent a playing card and another one to represent a deck of cards. Using these two classes, implement your favorite card game.\\n\")\n",
    "\n",
    "class Card:\n",
    "    SUITS = ('Clubs', 'Diamonds', 'Hearts', 'Spades')\n",
    "    RANKS = ('narf', 'Ace', '2', '3', '4', '5', '6', '7',\n",
    "             '8', '9', '10', 'Jack', 'Queen', 'King')\n",
    "\n",
    "    def __init__(self, suit=0, rank=0):\n",
    "        self.suit = suit\n",
    "        self.rank = rank\n",
    "\n",
    "    def __str__(self):\n",
    "        \"\"\"\n",
    "          >>> print(Card(2, 11))\n",
    "          Queen of Hearts\n",
    "        \"\"\"\n",
    "        return '{0} of {1}'.format(Card.RANKS[self.rank],\n",
    "                                   Card.SUITS[self.suit])\n",
    "\n",
    "\n",
    "if _name_ == '_main_':\n",
    "    import doctest\n",
    "    doctest.testmod()"
   ]
  },
  {
   "cell_type": "code",
   "execution_count": 17,
   "id": "periodic-bradley",
   "metadata": {},
   "outputs": [
    {
     "name": "stdout",
     "output_type": "stream",
     "text": [
      "Design and implement an experiment to do benchmark comparisons of the two queue(enqueue,dequeue) implementations. What can you learn from such an experiment?\n",
      "\n"
     ]
    },
    {
     "ename": "NameError",
     "evalue": "name 'Queue' is not defined",
     "output_type": "error",
     "traceback": [
      "\u001b[1;31m---------------------------------------------------------------------------\u001b[0m",
      "\u001b[1;31mNameError\u001b[0m                                 Traceback (most recent call last)",
      "\u001b[1;32m<ipython-input-17-8a391c85e8e9>\u001b[0m in \u001b[0;36m<module>\u001b[1;34m\u001b[0m\n\u001b[0;32m     22\u001b[0m \u001b[1;33m\u001b[0m\u001b[0m\n\u001b[0;32m     23\u001b[0m \u001b[1;33m\u001b[0m\u001b[0m\n\u001b[1;32m---> 24\u001b[1;33m \u001b[0mq\u001b[0m \u001b[1;33m=\u001b[0m \u001b[0mQueue\u001b[0m\u001b[1;33m(\u001b[0m\u001b[1;33m)\u001b[0m\u001b[1;33m\u001b[0m\u001b[1;33m\u001b[0m\u001b[0m\n\u001b[0m\u001b[0;32m     25\u001b[0m \u001b[1;33m\u001b[0m\u001b[0m\n\u001b[0;32m     26\u001b[0m \u001b[1;33m\u001b[0m\u001b[0m\n",
      "\u001b[1;31mNameError\u001b[0m: name 'Queue' is not defined"
     ]
    }
   ],
   "source": [
    "print(\"Design and implement an experiment to do benchmark comparisons of the two queue(enqueue,dequeue) implementations. What can you learn from such an experiment?\\n\")\n",
    "\n",
    "\n",
    "import time\n",
    "\n",
    "\n",
    "class MyQueue:\n",
    "    def __init__(self):\n",
    "        self.items = []\n",
    "\n",
    "    def isEmpty(self):\n",
    "        return self.items == []\n",
    "\n",
    "    def enqueue(self, item):\n",
    "        self.items.insert(0, item)\n",
    "\n",
    "    def dequeue(self):\n",
    "        return self.items.pop()\n",
    "\n",
    "    def size(self):\n",
    "        return len(self.items)\n",
    "\n",
    "\n",
    "q = Queue()\n",
    "\n",
    "\n",
    "# Steps:\n",
    "# 1) Enter 10 to five items in both 'MyQueue' and 'Queue'\n",
    "# 2) This should be done from instance of the various classes\n",
    "# 3) Check the number of steps that it takes to remove items from\n",
    "#    these object instances.\n",
    "\n",
    "m = MyQueue()\n",
    "t1 = time.time()\n",
    "for i in range(1, 100001):\n",
    "    m.enqueue(i)\n",
    "t2 = time.time()\n",
    "\n",
    "exec_time = t2 - t1\n",
    "\n",
    "# m.dequeue()\n",
    "\n",
    "t3 = time.time()\n",
    "for u in range(1, 100001):\n",
    "    q.enqueue(u)\n",
    "t4 = time.time()\n",
    "\n",
    "exec_time2 = t4 - t3\n",
    "\n",
    "\n",
    "t5 = time.time()\n",
    "if not q.isEmpty():\n",
    "    while q.items:\n",
    "        q.dequeue()\n",
    "t6 = time.time()\n",
    "exec_time3 = t6 - t5\n",
    "\n",
    "t7 = time.time()\n",
    "if not m.items:\n",
    "    while m.items:\n",
    "        m.dequeue()\n",
    "t8 = time.time()\n",
    "exec_time4 = t8 - t7\n",
    "\n",
    "print(\"\")\n",
    "print(\"----------------------\")\n",
    "print(\"Enqueue Operations\")\n",
    "print(\"----------------------\")\n",
    "print(\"MyQueue Result 1: \",     exec_time)\n",
    "print(\"Python Queue Result 2: \", exec_time2)\n",
    "print(\"----------------------\")\n",
    "print(\"Dequeue Operations\")\n",
    "print(\"----------------------\")\n",
    "print(\"MyQueue Result 1: \",      exec_time3)\n",
    "print(\"Python Queue Result 2: \", exec_time4)"
   ]
  },
  {
   "cell_type": "code",
   "execution_count": 18,
   "id": "three-sitting",
   "metadata": {},
   "outputs": [
    {
     "name": "stdout",
     "output_type": "stream",
     "text": [
      "Consider a real life situation. Formulate a question and then design a simulation that can help to answer it. Possible situations include: \n",
      "\n",
      "\t a. Cars lined up at a car wash\n",
      "\t b. Customers at a grocery store check-out\n",
      "\t c. Airplanes taking off and landing on a runway\n",
      "\t d. A bank teller\n",
      "\tBe sure to state any assumptions that you make and provide any probabilistic data that must be considered as part of the scenario.\n",
      "A. Our primary task is to create a simulation of the car wash for one day that calculates the average waiting time of all the cars. To do that we need to know the total waiting time for all the cars and the number of cars. To calculate the total waiting time we need the individual waiting time for each car, which we calculate from its arrival time (the current time when the car arrives) and the current time when the car leaves the waiting line and enters the car wash bay. Since the time a car spends in the wash bay is measured in minutes, we might as well measure waiting times and the time that the car wash is open (the length of the day) in minutes as well. As mentioned above, if a car arrives every four minutes, on average, then in any given minute there is a one in four chance of a car arriving.\n",
      "B.Customers arrive at the grocery store and join the line. The time between any two customer arrivals is variable and uncertain but we can say, for example, on  average two customers join the line every minute. The rate at which customers join the line is what we call arrival rate (symbol lambda ). This is the same as workload arrival in chapter 1. In this case, arrival rate lambda  is 2 per minute. This also means that the average time between two arrivals is ½ minute; we call this interarrival time.The time cashier takes to serve one customer is called service time. This too changes from customer to customer and is, therefore, variable and uncertain. Let us say, on average, service time for a customer is 15 seconds = ¼ minute. This also means that the one cashier can serve customers at the rate of 1/(1/4) = 4 customers per minute; this is what we call service rate (symbol mu ).Since there is only one cashier, number of cashiers is 1. We use symbol m for this. In case cafe opens another cashier and if a single line is used to feed both servers, we will say number of servers m is 2. \n",
      "C.Airplanes landing simulation,New plane arrives in airspace on average every 10 minutes,It takes 7 minutes to land the plane before another plance can land,Planes must wait their turn to land\n",
      "D. For simulation of real-world situations. For instance, a new bank may want to know how many tellers to install. The goal is to service each customer within a reasonable wait time, but not have too many tellers for the number of customers. To find out a good number of tellers, they can run a computer simulation of typical customer transactions using queues to represent the waiting customers.When placed on hold for telephone operators. For example, when you phone the toll-free number for your bank, you may get a recording that says, Thank you for calling A-1 Bank. Your call will be answered by the next available operator. Please wait. This is a queuing system.\n"
     ]
    }
   ],
   "source": [
    "print(\"Consider a real life situation. Formulate a question and then design a simulation that can help to answer it. Possible situations include: \\n\")\n",
    "print(\"\\t a. Cars lined up at a car wash\")\n",
    "print(\"\\t b. Customers at a grocery store check-out\")\n",
    "print(\"\\t c. Airplanes taking off and landing on a runway\")\n",
    "print(\"\\t d. A bank teller\")\n",
    "print(\"\\tBe sure to state any assumptions that you make and provide any probabilistic data that must be considered as part of the scenario.\")\n",
    "\n",
    "\n",
    "\n",
    "print(\"A. Our primary task is to create a simulation of the car wash for one day that calculates the average waiting time of all the cars. To do that we need to know the total waiting time for all the cars and the number of cars. To calculate the total waiting time we need the individual waiting time for each car, which we calculate from its arrival time (the current time when the car arrives) and the current time when the car leaves the waiting line and enters the car wash bay. Since the time a car spends in the wash bay is measured in minutes, we might as well measure waiting times and the time that the car wash is open (the length of the day) in minutes as well. As mentioned above, if a car arrives every four minutes, on average, then in any given minute there is a one in four chance of a car arriving.\\nB.Customers arrive at the grocery store and join the line. The time between any two customer arrivals is variable and uncertain but we can say, for example, on  average two customers join the line every minute. The rate at which customers join the line is what we call arrival rate (symbol lambda ). This is the same as workload arrival in chapter 1. In this case, arrival rate lambda  is 2 per minute. This also means that the average time between two arrivals is ½ minute; we call this interarrival time.The time cashier takes to serve one customer is called service time. This too changes from customer to customer and is, therefore, variable and uncertain. Let us say, on average, service time for a customer is 15 seconds = ¼ minute. This also means that the one cashier can serve customers at the rate of 1/(1/4) = 4 customers per minute; this is what we call service rate (symbol mu ).Since there is only one cashier, number of cashiers is 1. We use symbol m for this. In case cafe opens another cashier and if a single line is used to feed both servers, we will say number of servers m is 2. \\nC.Airplanes landing simulation,New plane arrives in airspace on average every 10 minutes,It takes 7 minutes to land the plane before another plance can land,Planes must wait their turn to land\\nD. For simulation of real-world situations. For instance, a new bank may want to know how many tellers to install. The goal is to service each customer within a reasonable wait time, but not have too many tellers for the number of customers. To find out a good number of tellers, they can run a computer simulation of typical customer transactions using queues to represent the waiting customers.When placed on hold for telephone operators. For example, when you phone the toll-free number for your bank, you may get a recording that says, Thank you for calling A-1 Bank. Your call will be answered by the next available operator. Please wait. This is a queuing system.\")"
   ]
  },
  {
   "cell_type": "code",
   "execution_count": null,
   "id": "national-treasury",
   "metadata": {},
   "outputs": [],
   "source": [
    "print(\"Implement a queue using linked lists.\")\n",
    "\n",
    " \n",
    "class Queue:\n",
    "    def __init__(self):\n",
    "        self.head = None\n",
    "        self.last = None\n",
    " \n",
    "    def enqueue(self, data):\n",
    "        if self.last is None:\n",
    "            self.head = Node(data)\n",
    "            self.last = self.head\n",
    "        else:\n",
    "            self.last.next = Node(data)\n",
    "            self.last = self.last.next\n",
    " \n",
    "    def dequeue(self):\n",
    "        if self.head is None:\n",
    "            return None\n",
    "        else:\n",
    "            to_return = self.head.data\n",
    "            self.head = self.head.next\n",
    "            return to_return\n",
    " \n",
    "a_queue = Queue()\n",
    "while True:\n",
    "    print('enqueue <value>')\n",
    "    print('dequeue')\n",
    "    print('quit')\n",
    "    do = input('What would you like to do? ').split()\n",
    " \n",
    "    operation = do[0].strip().lower()\n",
    "    if operation == 'enqueue':\n",
    "        a_queue.enqueue(int(do[1]))\n",
    "    elif operation == 'dequeue':\n",
    "        dequeued = a_queue.dequeue()\n",
    "        if dequeued is None:\n",
    "            print('Queue is empty.')\n",
    "        else:\n",
    "            print('Dequeued element: ', int(dequeued))\n",
    "    elif operation == 'quit':\n",
    "        break"
   ]
  },
  {
   "cell_type": "code",
   "execution_count": 1,
   "id": "juvenile-limit",
   "metadata": {},
   "outputs": [
    {
     "name": "stdout",
     "output_type": "stream",
     "text": [
      "Write a recursive function to compute the factorial of a number.\n"
     ]
    },
    {
     "name": "stdin",
     "output_type": "stream",
     "text": [
      "Enter a number:  5\n"
     ]
    },
    {
     "name": "stdout",
     "output_type": "stream",
     "text": [
      "The factorial of 5 is 120\n"
     ]
    }
   ],
   "source": [
    "print(\"Write a recursive function to compute the factorial of a number.\")\n",
    "\n",
    "def recur_factorial(n):  \n",
    "   if n == 1:  \n",
    "       return n  \n",
    "   else:  \n",
    "       return n*recur_factorial(n-1)  \n",
    "# take input from the user  \n",
    "num = int(input(\"Enter a number: \"))  \n",
    "# check is the number is negative  \n",
    "if num < 0:  \n",
    "   print(\"Sorry, factorial does not exist for negative numbers\")  \n",
    "elif num == 0:  \n",
    "   print(\"The factorial of 0 is 1\")  \n",
    "else:  \n",
    "   print(\"The factorial of\",num,\"is\",recur_factorial(num))"
   ]
  },
  {
   "cell_type": "code",
   "execution_count": 2,
   "id": "brazilian-integration",
   "metadata": {},
   "outputs": [
    {
     "ename": "SyntaxError",
     "evalue": "EOL while scanning string literal (<ipython-input-2-37a72136a93a>, line 22)",
     "output_type": "error",
     "traceback": [
      "\u001b[1;36m  File \u001b[1;32m\"<ipython-input-2-37a72136a93a>\"\u001b[1;36m, line \u001b[1;32m22\u001b[0m\n\u001b[1;33m    print('The item t= %s was not\u001b[0m\n\u001b[1;37m                                 ^\u001b[0m\n\u001b[1;31mSyntaxError\u001b[0m\u001b[1;31m:\u001b[0m EOL while scanning string literal\n"
     ]
    }
   ],
   "source": [
    "print(\"Set up a random experiment to test the difference between a sequential search and a binary search on a list of integers.\")\n",
    "\n",
    "\n",
    "def sequentialSearch(alist, item):\n",
    "    pos = 0\n",
    "    found = False\n",
    "    \n",
    "    while pos < len(alist) and not found:\n",
    "        if alist[pos] == item:\n",
    "            found =  True\n",
    "        else:\n",
    "            pos = pos+1\n",
    "            \n",
    "    return pos\n",
    "\n",
    "testlist = [1, 2, 32, 8, 17, 19, 42, 13, 0]\n",
    "item = 2\n",
    "k = sequentialSearch(testlist, item)\n",
    "if k <= len(testlist)-1:\n",
    "    print('The item t= %s was found at testlist[%s]') %(item, k)\n",
    "else:\n",
    "    print('The item t= %s was not\n",
    "\n",
    "\n",
    "\n",
    "def binarySearch(alist, item):\n",
    "    first = 0\n",
    "    last = len(alist)-1\n",
    "    found = False\n",
    "    \n",
    "    while first <= last and not found:\n",
    "        midpoint = (first + last)//2\n",
    "        if alist[midpoint] == item:\n",
    "            found = True\n",
    "        else:\n",
    "            if item < alist[midpoint]:\n",
    "                last = midpoint - 1\n",
    "            else:\n",
    "                first = midpoint + 1\n",
    "    return (found, midpoint)\n",
    "testlist = [0, 1, 2, 8, 13, 17, 19, 32, 42]\n",
    "item = 10\n",
    "(found,k) = binarySearch(testlist, item)\n",
    "if found == True:\n",
    "    print('The item t= %s was found at testlist[%s]') %(item, k)\n",
    "else:\n",
    "    print('The item t= %s was not found"
   ]
  },
  {
   "cell_type": "code",
   "execution_count": 1,
   "id": "automatic-stable",
   "metadata": {},
   "outputs": [
    {
     "ename": "SyntaxError",
     "evalue": "Missing parentheses in call to 'print'. Did you mean print(\"KNAPWEIGHT:\", knapWeights - 1, \" \", maxProfits)? (<ipython-input-1-39b1bea8f7c4>, line 13)",
     "output_type": "error",
     "traceback": [
      "\u001b[1;36m  File \u001b[1;32m\"<ipython-input-1-39b1bea8f7c4>\"\u001b[1;36m, line \u001b[1;32m13\u001b[0m\n\u001b[1;33m    print \"KNAPWEIGHT:\", knapWeights - 1, \" \", maxProfits\u001b[0m\n\u001b[1;37m          ^\u001b[0m\n\u001b[1;31mSyntaxError\u001b[0m\u001b[1;31m:\u001b[0m Missing parentheses in call to 'print'. Did you mean print(\"KNAPWEIGHT:\", knapWeights - 1, \" \", maxProfits)?\n"
     ]
    }
   ],
   "source": [
    "print(\"Suppose you are a computer scientist/art thief who has broken into a major art gallery. All you have with you to haul out your stolen art is your knapsack which only holds W pounds of art, but for every piece of art you know its value and its weight. Write a dynamic programming function to help you maximize your profit. Here is a sample problem for you to use to get started: Suppose your knapsack can hold a total weight of 20. You have 5 items as follows:\")\n",
    "\n",
    "class StolenItem:\n",
    "\tdef __init__(self, theID, theValue, theWeight):\n",
    "\t\tself.ID = theID\n",
    "\t\tself.value = theValue\n",
    "\t\tself.weight = theWeight\n",
    "\n",
    "def dpMaxProfit (itemList, knapWeight, maxProfits, weightsUsed):\n",
    "\tmaxProfit = 0\n",
    "\n",
    "\tfor knapWeights in range (knapWeight + 1):\n",
    "\t\tprint \"KNAPWEIGHT:\", knapWeights - 1, \" \", maxProfits\n",
    "\t\tnewItem = itemList[0]\n",
    "\n",
    "\t\tfor item in [x for x in itemList if x.weight <= knapWeights]:\n",
    "\t\t\tif maxProfits[knapWeights - item.weight] + item.value > maxProfit: \n",
    "\t\t\t\tmaxProfit = maxProfits[knapWeights - item.weight] + item.value\n",
    "\t\t\t\tnewItem = item\n",
    "\t\tmaxProfits[knapWeights] = maxProfit\n",
    "\t\tweightsUsed[knapWeights] = newItem.weight\n",
    "\n",
    "\treturn(maxProfits[knapWeight])\n",
    "\t\n",
    "def reMaxProfit(itemList, knapWeight):\n",
    "\tif knapWeight < 1:\n",
    "\t\treturn 0 \n",
    "\n",
    "\tl1 = [x for x in itemList if x.weight <= knapWeight]\t\n",
    "\tprofitList = [(item.value + reMaxProfit(itemList, knapWeight-item.weight)) for item in l1]\n",
    "\n",
    "\tif len(profitList) > 0:\n",
    "\t\treturn max(profitList)\n",
    "\telse:\n",
    "\t\treturn 0 \n",
    "\t\t\n",
    "def _weightsUsed(weightList, knapWeight):\n",
    "\tweight = knapWeight\n",
    "\twhile weight > 0:\n",
    "\t\tprint(weightList[weight])\n",
    "\t\tweight -= weightList[weight]\n",
    "recurse = True\n",
    "if recurse:\n",
    "\tmaxProfits = [0] * (knapWeight + 1)\n",
    "\tweightsUsed = [0] * (knapWeight + 1)\n",
    "\n",
    "def main():\n",
    "\titemList = [StolenItem(1,3,2), StolenItem(2,4,3), StolenItem(3,8,4), StolenItem(4,8,5), StolenItem(5,10,9)]\n",
    "\tknapWeight = 20\n",
    "\tif !recurse:\n",
    "\t\tmaxProfits = [0] * (knapWeight + 1)\n",
    "\t\tweightsUsed = [0] * (knapWeight + 1)\n",
    "\t\tprint(dpMaxProfit(itemList, knapWeight, maxProfits, weightsUsed))\n",
    "\t\tprint _weightsUsed(weightsUsed, knapWeight)\n",
    "\telse:\t\n",
    "\t\tprint (reMaxProfit(itemList, knapWeight))\n",
    "\n",
    "if _name_ == \"_main_\":\n",
    "\tmain()\n"
   ]
  },
  {
   "cell_type": "code",
   "execution_count": null,
   "id": "young-laptop",
   "metadata": {},
   "outputs": [],
   "source": []
  },
  {
   "cell_type": "code",
   "execution_count": null,
   "id": "combined-israel",
   "metadata": {},
   "outputs": [],
   "source": []
  },
  {
   "cell_type": "code",
   "execution_count": null,
   "id": "gross-procedure",
   "metadata": {},
   "outputs": [],
   "source": []
  }
 ],
 "metadata": {
  "kernelspec": {
   "display_name": "Python 3",
   "language": "python",
   "name": "python3"
  },
  "language_info": {
   "codemirror_mode": {
    "name": "ipython",
    "version": 3
   },
   "file_extension": ".py",
   "mimetype": "text/x-python",
   "name": "python",
   "nbconvert_exporter": "python",
   "pygments_lexer": "ipython3",
   "version": "3.9.2"
  }
 },
 "nbformat": 4,
 "nbformat_minor": 5
}
